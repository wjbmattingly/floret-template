{
 "cells": [
  {
   "cell_type": "code",
   "execution_count": 1,
   "id": "58c55cf5-3887-4a6b-a838-d5f806de3001",
   "metadata": {},
   "outputs": [],
   "source": [
    "import floret\n",
    "import glob"
   ]
  },
  {
   "cell_type": "code",
   "execution_count": null,
   "id": "ce0dd2f0-aeb0-44e6-ba3f-3e2d5e1652c8",
   "metadata": {},
   "outputs": [],
   "source": [
    "INPUT_DIR = \"data\"\n",
    "TEXT_OUTPUT = \"template.txt\"\n",
    "FLORET_NAME = \"template\""
   ]
  },
  {
   "cell_type": "code",
   "execution_count": null,
   "id": "38897168-985c-4a1a-9b3b-ef176ac89638",
   "metadata": {},
   "outputs": [],
   "source": [
    "files = glob.glob(INPUT_DIR+\"/*.txt\")"
   ]
  },
  {
   "cell_type": "code",
   "execution_count": null,
   "id": "de15e3b5-39b2-4efc-b797-89e076b238c8",
   "metadata": {},
   "outputs": [],
   "source": [
    "texts = []\n",
    "for file in files:\n",
    "    with open(file, \"r\", encoding=\"utf-8\") as f:\n",
    "        data = f.read()\n",
    "    ## You may want to break texts into sentences before appending\n",
    "    texts.append(data)"
   ]
  },
  {
   "cell_type": "code",
   "execution_count": null,
   "id": "62c79495-c600-4cc4-9d0b-14909fa61a04",
   "metadata": {},
   "outputs": [],
   "source": [
    "with open(TEXT_OUTPUT, \"w\", encoding=\"utf-8\") as f:\n",
    "    f.write(\"\\n\".join(texts))"
   ]
  },
  {
   "cell_type": "code",
   "execution_count": null,
   "id": "fcd1c20d-3034-4d05-a37e-0872808bf0e2",
   "metadata": {},
   "outputs": [],
   "source": [
    "model = floret.train_unsupervised(\n",
    "    TEXT_OUTPUT,\n",
    "    model=\"cbow\",\n",
    "    mode=\"floret\",\n",
    "    hashCount=2,\n",
    "    bucket=100000,\n",
    "    minn=2,\n",
    "    maxn=6,\n",
    ")"
   ]
  },
  {
   "cell_type": "code",
   "execution_count": null,
   "id": "1a8fa326-a8fc-4c62-bc2f-2820def62688",
   "metadata": {},
   "outputs": [],
   "source": [
    "model.save_floret_vectors(f\"{FLORET_NAME}.floret\")"
   ]
  },
  {
   "cell_type": "code",
   "execution_count": null,
   "id": "6cf8585c-b110-4cf8-b828-b764a3308b34",
   "metadata": {},
   "outputs": [],
   "source": [
    "!spacy init vectors en template.floret lat_pl --mode floret"
   ]
  }
 ],
 "metadata": {
  "kernelspec": {
   "display_name": "Python 3 (ipykernel)",
   "language": "python",
   "name": "python3"
  },
  "language_info": {
   "codemirror_mode": {
    "name": "ipython",
    "version": 3
   },
   "file_extension": ".py",
   "mimetype": "text/x-python",
   "name": "python",
   "nbconvert_exporter": "python",
   "pygments_lexer": "ipython3",
   "version": "3.8.5"
  }
 },
 "nbformat": 4,
 "nbformat_minor": 5
}
