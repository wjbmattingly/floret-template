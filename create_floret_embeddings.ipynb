{
 "cells": [
  {
   "cell_type": "code",
   "execution_count": 1,
   "id": "58c55cf5-3887-4a6b-a838-d5f806de3001",
   "metadata": {},
   "outputs": [],
   "source": [
    "import floret\n",
    "import glob"
   ]
  },
  {
   "cell_type": "code",
   "execution_count": 2,
   "id": "ce0dd2f0-aeb0-44e6-ba3f-3e2d5e1652c8",
   "metadata": {},
   "outputs": [],
   "source": [
    "INPUT_DIR = \"data\"\n",
    "TEXT_OUTPUT = \"template.txt\"\n",
    "FLORET_NAME = \"template\"\n",
    "SPACY_MODEL_NAME = \"template\""
   ]
  },
  {
   "cell_type": "code",
   "execution_count": 8,
   "id": "38897168-985c-4a1a-9b3b-ef176ac89638",
   "metadata": {},
   "outputs": [
    {
     "data": {
      "text/plain": [
       "1"
      ]
     },
     "execution_count": 8,
     "metadata": {},
     "output_type": "execute_result"
    }
   ],
   "source": [
    "files = glob.glob(INPUT_DIR+\"/*.txt\")\n",
    "len(files)"
   ]
  },
  {
   "cell_type": "code",
   "execution_count": 20,
   "id": "de15e3b5-39b2-4efc-b797-89e076b238c8",
   "metadata": {},
   "outputs": [
    {
     "data": {
      "text/plain": [
       "6351"
      ]
     },
     "execution_count": 20,
     "metadata": {},
     "output_type": "execute_result"
    }
   ],
   "source": [
    "texts = []\n",
    "# This is a fast, but less accurate way to separate sentences.\n",
    "sent_nlp = spacy.blank(\"en\")\n",
    "sent_nlp.add_pipe(\"sentencizer\")\n",
    "\n",
    "for file in files:\n",
    "    with open(file, \"r\", encoding=\"utf-8\") as f:\n",
    "        data = f.read()\n",
    "    doc = sent_nlp(data)\n",
    "    for sent in doc.sents:\n",
    "        texts.append(sent.text)\n",
    "len(texts)"
   ]
  },
  {
   "cell_type": "code",
   "execution_count": 21,
   "id": "62c79495-c600-4cc4-9d0b-14909fa61a04",
   "metadata": {},
   "outputs": [],
   "source": [
    "with open(TEXT_OUTPUT, \"w\", encoding=\"utf-8\") as f:\n",
    "    f.write(\"\\n\".join(texts))"
   ]
  },
  {
   "cell_type": "code",
   "execution_count": 22,
   "id": "fcd1c20d-3034-4d05-a37e-0872808bf0e2",
   "metadata": {},
   "outputs": [],
   "source": [
    "model = floret.train_unsupervised(\n",
    "    TEXT_OUTPUT,\n",
    "    model=\"cbow\",\n",
    "    mode=\"floret\",\n",
    "    hashCount=2,\n",
    "    bucket=100000,\n",
    "    minn=2,\n",
    "    maxn=6,\n",
    ")"
   ]
  },
  {
   "cell_type": "code",
   "execution_count": 23,
   "id": "1a8fa326-a8fc-4c62-bc2f-2820def62688",
   "metadata": {},
   "outputs": [],
   "source": [
    "model.save_floret_vectors(f\"{FLORET_NAME}.floret\")"
   ]
  },
  {
   "cell_type": "code",
   "execution_count": null,
   "id": "6cf8585c-b110-4cf8-b828-b764a3308b34",
   "metadata": {},
   "outputs": [],
   "source": [
    "!python -m spacy init vectors en template.floret template --mode floret"
   ]
  },
  {
   "cell_type": "code",
   "execution_count": null,
   "id": "fc15b582-55cb-46c4-8e81-073c40d7fce6",
   "metadata": {},
   "outputs": [],
   "source": [
    "import spacy"
   ]
  },
  {
   "cell_type": "code",
   "execution_count": null,
   "id": "c4ae9fcc-d48e-466f-bb83-bbe04cbe89ff",
   "metadata": {},
   "outputs": [],
   "source": [
    "nlp = spacy.load(\"template\")"
   ]
  },
  {
   "cell_type": "code",
   "execution_count": null,
   "id": "8d68d922-e0c4-4cfc-8769-9e8055bd408b",
   "metadata": {},
   "outputs": [],
   "source": [
    "text = \"Harry Potter was a character in a book.\"\n",
    "doc = nlp(text)\n",
    "doc.vector"
   ]
  },
  {
   "cell_type": "code",
   "execution_count": null,
   "id": "e0f477b9-1e5e-411e-a3e8-32525fb63868",
   "metadata": {},
   "outputs": [],
   "source": []
  }
 ],
 "metadata": {
  "kernelspec": {
   "display_name": "Python 3 (ipykernel)",
   "language": "python",
   "name": "python3"
  },
  "language_info": {
   "codemirror_mode": {
    "name": "ipython",
    "version": 3
   },
   "file_extension": ".py",
   "mimetype": "text/x-python",
   "name": "python",
   "nbconvert_exporter": "python",
   "pygments_lexer": "ipython3",
   "version": "3.8.5"
  }
 },
 "nbformat": 4,
 "nbformat_minor": 5
}
