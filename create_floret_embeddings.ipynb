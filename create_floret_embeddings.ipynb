{
 "cells": [
  {
   "cell_type": "code",
   "execution_count": 1,
   "id": "58c55cf5-3887-4a6b-a838-d5f806de3001",
   "metadata": {},
   "outputs": [],
   "source": [
    "import floret\n",
    "import glob"
   ]
  },
  {
   "cell_type": "code",
   "execution_count": 2,
   "id": "ce0dd2f0-aeb0-44e6-ba3f-3e2d5e1652c8",
   "metadata": {},
   "outputs": [],
   "source": [
    "INPUT_DIR = \"data\"\n",
    "TEXT_OUTPUT = \"template.txt\"\n",
    "FLORET_NAME = \"template\"\n",
    "SPACY_MODEL_NAME = \"template\""
   ]
  },
  {
   "cell_type": "code",
   "execution_count": 8,
   "id": "38897168-985c-4a1a-9b3b-ef176ac89638",
   "metadata": {},
   "outputs": [
    {
     "data": {
      "text/plain": [
       "1"
      ]
     },
     "execution_count": 8,
     "metadata": {},
     "output_type": "execute_result"
    }
   ],
   "source": [
    "files = glob.glob(INPUT_DIR+\"/*.txt\")\n",
    "len(files)"
   ]
  },
  {
   "cell_type": "code",
   "execution_count": 9,
   "id": "de15e3b5-39b2-4efc-b797-89e076b238c8",
   "metadata": {},
   "outputs": [],
   "source": [
    "texts = []\n",
    "for file in files:\n",
    "    with open(file, \"r\", encoding=\"utf-8\") as f:\n",
    "        data = f.read()\n",
    "    ## You may want to break texts into sentences before appending\n",
    "    texts.append(data)"
   ]
  },
  {
   "cell_type": "code",
   "execution_count": 10,
   "id": "62c79495-c600-4cc4-9d0b-14909fa61a04",
   "metadata": {},
   "outputs": [],
   "source": [
    "with open(TEXT_OUTPUT, \"w\", encoding=\"utf-8\") as f:\n",
    "    f.write(\"\\n\".join(texts))"
   ]
  },
  {
   "cell_type": "code",
   "execution_count": 11,
   "id": "fcd1c20d-3034-4d05-a37e-0872808bf0e2",
   "metadata": {},
   "outputs": [],
   "source": [
    "model = floret.train_unsupervised(\n",
    "    TEXT_OUTPUT,\n",
    "    model=\"cbow\",\n",
    "    mode=\"floret\",\n",
    "    hashCount=2,\n",
    "    bucket=100000,\n",
    "    minn=2,\n",
    "    maxn=6,\n",
    ")"
   ]
  },
  {
   "cell_type": "code",
   "execution_count": 12,
   "id": "1a8fa326-a8fc-4c62-bc2f-2820def62688",
   "metadata": {},
   "outputs": [],
   "source": [
    "model.save_floret_vectors(f\"{FLORET_NAME}.floret\")"
   ]
  },
  {
   "cell_type": "code",
   "execution_count": 15,
   "id": "6cf8585c-b110-4cf8-b828-b764a3308b34",
   "metadata": {},
   "outputs": [
    {
     "name": "stdout",
     "output_type": "stream",
     "text": [
      "[i] Creating blank nlp object for language 'en'\n",
      "[+] Successfully converted 100000 vectors\n",
      "[+] Saved nlp object with vectors to output directory. You can now use the path\n",
      "to it in your config as the 'vectors' setting in [initialize].\n",
      "C:\\Users\\wma22\\OneDrive\\Documents\\GitHub\\floret-template\\template\n"
     ]
    },
    {
     "name": "stderr",
     "output_type": "stream",
     "text": [
      "[2023-01-09 16:46:08,830] [INFO] Reading vectors from template.floret\n",
      "\n",
      "0it [00:00, ?it/s]\n",
      "4333it [00:00, 43015.19it/s]\n",
      "8651it [00:00, 42927.96it/s]\n",
      "12944it [00:00, 42403.12it/s]\n",
      "17222it [00:00, 42429.18it/s]\n",
      "21724it [00:00, 43236.04it/s]\n",
      "26350it [00:00, 44149.60it/s]\n",
      "30984it [00:00, 44753.31it/s]\n",
      "35582it [00:00, 45038.86it/s]\n",
      "40115it [00:00, 45031.66it/s]\n",
      "44653it [00:01, 45037.61it/s]\n",
      "49157it [00:01, 45003.96it/s]\n",
      "53764it [00:01, 45226.81it/s]\n",
      "58361it [00:01, 45351.00it/s]\n",
      "62897it [00:01, 45254.30it/s]\n",
      "67423it [00:01, 43470.10it/s]\n",
      "71785it [00:01, 43417.38it/s]\n",
      "76137it [00:01, 42853.35it/s]\n",
      "80680it [00:01, 43515.34it/s]\n",
      "85308it [00:01, 44233.23it/s]\n",
      "89777it [00:02, 44270.70it/s]\n",
      "94361it [00:02, 44641.19it/s]\n",
      "99026it [00:02, 45139.79it/s]\n",
      "100000it [00:02, 44335.65it/s]\n",
      "[2023-01-09 16:46:11,088] [INFO] Loaded vectors from template.floret\n"
     ]
    }
   ],
   "source": [
    "!python -m spacy init vectors en template.floret template --mode floret"
   ]
  },
  {
   "cell_type": "code",
   "execution_count": 16,
   "id": "fc15b582-55cb-46c4-8e81-073c40d7fce6",
   "metadata": {},
   "outputs": [],
   "source": [
    "import spacy"
   ]
  },
  {
   "cell_type": "code",
   "execution_count": 17,
   "id": "c4ae9fcc-d48e-466f-bb83-bbe04cbe89ff",
   "metadata": {},
   "outputs": [],
   "source": [
    "nlp = spacy.load(\"template\")"
   ]
  },
  {
   "cell_type": "code",
   "execution_count": 18,
   "id": "8d68d922-e0c4-4cfc-8769-9e8055bd408b",
   "metadata": {},
   "outputs": [
    {
     "data": {
      "text/plain": [
       "array([ 0.4612502 ,  0.16534485, -0.12746073,  0.2234562 , -0.0300511 ,\n",
       "       -0.35561547, -0.01956181,  0.28821564, -0.16820806, -0.32612526,\n",
       "        0.16483042, -0.18690059,  0.5343835 , -0.11756255,  0.06188887,\n",
       "       -0.12123304, -0.36994785, -0.4216064 ,  0.50236106, -0.51264393,\n",
       "       -0.40395656,  0.19440593, -0.08373949,  0.24364924, -0.12045497,\n",
       "       -0.17610669,  0.43619683,  0.31341144, -0.02306449, -0.11607637,\n",
       "       -0.36818516, -0.03822308, -0.52713674,  0.21405713, -0.03117894,\n",
       "       -0.11671943, -0.32231852, -0.3823715 , -0.00786033, -0.3756393 ,\n",
       "       -0.37956735, -0.3404667 ,  0.00995604,  0.01778995,  0.19086047,\n",
       "        0.06418109,  0.2992487 , -0.1518494 ,  0.24815014, -0.30103764,\n",
       "       -0.3073952 ,  0.0159332 , -0.17288716,  0.06615479, -0.11217402,\n",
       "       -0.06812232, -0.05830581,  0.09444605,  0.0723009 ,  0.13108158,\n",
       "        0.07215293,  0.2673913 ,  0.27398545, -0.07766928,  0.11239673,\n",
       "        0.21475865, -0.13394532, -0.16396934,  0.05166699,  0.00438348,\n",
       "        0.2559647 , -0.2088073 ,  0.33324325, -0.02467395,  0.3020106 ,\n",
       "       -0.6978108 , -0.45194042,  0.0827079 , -0.29154006,  0.31016827,\n",
       "       -0.25345367, -0.16294676, -0.28044048,  0.6572376 ,  0.4130631 ,\n",
       "       -0.4426987 , -0.71091413,  0.13710965, -0.13187173, -0.10054275,\n",
       "        0.1612153 ,  0.09675381,  0.54310566, -0.09458175,  0.10757652,\n",
       "        0.46457502, -0.6087239 , -0.2873582 , -0.04328499,  0.01139489],\n",
       "      dtype=float32)"
      ]
     },
     "execution_count": 18,
     "metadata": {},
     "output_type": "execute_result"
    }
   ],
   "source": [
    "text = \"Harry Potter was a character in a book.\"\n",
    "doc = nlp(text)\n",
    "doc.vector"
   ]
  },
  {
   "cell_type": "code",
   "execution_count": null,
   "id": "e0f477b9-1e5e-411e-a3e8-32525fb63868",
   "metadata": {},
   "outputs": [],
   "source": []
  }
 ],
 "metadata": {
  "kernelspec": {
   "display_name": "Python 3 (ipykernel)",
   "language": "python",
   "name": "python3"
  },
  "language_info": {
   "codemirror_mode": {
    "name": "ipython",
    "version": 3
   },
   "file_extension": ".py",
   "mimetype": "text/x-python",
   "name": "python",
   "nbconvert_exporter": "python",
   "pygments_lexer": "ipython3",
   "version": "3.8.5"
  }
 },
 "nbformat": 4,
 "nbformat_minor": 5
}
