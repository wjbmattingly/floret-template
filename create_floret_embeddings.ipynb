{
 "cells": [
  {
   "cell_type": "code",
   "execution_count": 1,
   "id": "58c55cf5-3887-4a6b-a838-d5f806de3001",
   "metadata": {},
   "outputs": [],
   "source": [
    "import floret\n",
    "import glob"
   ]
  },
  {
   "cell_type": "code",
   "execution_count": 2,
   "id": "ce0dd2f0-aeb0-44e6-ba3f-3e2d5e1652c8",
   "metadata": {},
   "outputs": [],
   "source": [
    "INPUT_DIR = \"data\"\n",
    "TEXT_OUTPUT = \"template.txt\"\n",
    "FLORET_NAME = \"template\"\n",
    "SPACY_MODEL_NAME = \"template\""
   ]
  },
  {
   "cell_type": "code",
   "execution_count": 8,
   "id": "38897168-985c-4a1a-9b3b-ef176ac89638",
   "metadata": {},
   "outputs": [
    {
     "data": {
      "text/plain": [
       "1"
      ]
     },
     "execution_count": 8,
     "metadata": {},
     "output_type": "execute_result"
    }
   ],
   "source": [
    "files = glob.glob(INPUT_DIR+\"/*.txt\")\n",
    "len(files)"
   ]
  },
  {
   "cell_type": "code",
   "execution_count": 9,
   "id": "de15e3b5-39b2-4efc-b797-89e076b238c8",
   "metadata": {},
   "outputs": [],
   "source": [
    "texts = []\n",
    "for file in files:\n",
    "    with open(file, \"r\", encoding=\"utf-8\") as f:\n",
    "        data = f.read()\n",
    "    ## You may want to break texts into sentences before appending\n",
    "    texts.append(data)"
   ]
  },
  {
   "cell_type": "code",
   "execution_count": 10,
   "id": "62c79495-c600-4cc4-9d0b-14909fa61a04",
   "metadata": {},
   "outputs": [],
   "source": [
    "with open(TEXT_OUTPUT, \"w\", encoding=\"utf-8\") as f:\n",
    "    f.write(\"\\n\".join(texts))"
   ]
  },
  {
   "cell_type": "code",
   "execution_count": 11,
   "id": "fcd1c20d-3034-4d05-a37e-0872808bf0e2",
   "metadata": {},
   "outputs": [],
   "source": [
    "model = floret.train_unsupervised(\n",
    "    TEXT_OUTPUT,\n",
    "    model=\"cbow\",\n",
    "    mode=\"floret\",\n",
    "    hashCount=2,\n",
    "    bucket=100000,\n",
    "    minn=2,\n",
    "    maxn=6,\n",
    ")"
   ]
  },
  {
   "cell_type": "code",
   "execution_count": 12,
   "id": "1a8fa326-a8fc-4c62-bc2f-2820def62688",
   "metadata": {},
   "outputs": [],
   "source": [
    "model.save_floret_vectors(f\"{FLORET_NAME}.floret\")"
   ]
  },
  {
   "cell_type": "code",
   "execution_count": 15,
   "id": "6cf8585c-b110-4cf8-b828-b764a3308b34",
   "metadata": {},
   "outputs": [
    {
     "name": "stdout",
     "output_type": "stream",
     "text": [
      "[i] Creating blank nlp object for language 'en'\n",
      "[+] Successfully converted 100000 vectors\n",
      "[+] Saved nlp object with vectors to output directory. You can now use the path\n",
      "to it in your config as the 'vectors' setting in [initialize].\n",
      "C:\\Users\\wma22\\OneDrive\\Documents\\GitHub\\floret-template\\template\n"
     ]
    },
    {
     "name": "stderr",
     "output_type": "stream",
     "text": [
      "[2023-01-09 16:46:08,830] [INFO] Reading vectors from template.floret\n",
      "\n",
      "0it [00:00, ?it/s]\n",
      "4333it [00:00, 43015.19it/s]\n",
      "8651it [00:00, 42927.96it/s]\n",
      "12944it [00:00, 42403.12it/s]\n",
      "17222it [00:00, 42429.18it/s]\n",
      "21724it [00:00, 43236.04it/s]\n",
      "26350it [00:00, 44149.60it/s]\n",
      "30984it [00:00, 44753.31it/s]\n",
      "35582it [00:00, 45038.86it/s]\n",
      "40115it [00:00, 45031.66it/s]\n",
      "44653it [00:01, 45037.61it/s]\n",
      "49157it [00:01, 45003.96it/s]\n",
      "53764it [00:01, 45226.81it/s]\n",
      "58361it [00:01, 45351.00it/s]\n",
      "62897it [00:01, 45254.30it/s]\n",
      "67423it [00:01, 43470.10it/s]\n",
      "71785it [00:01, 43417.38it/s]\n",
      "76137it [00:01, 42853.35it/s]\n",
      "80680it [00:01, 43515.34it/s]\n",
      "85308it [00:01, 44233.23it/s]\n",
      "89777it [00:02, 44270.70it/s]\n",
      "94361it [00:02, 44641.19it/s]\n",
      "99026it [00:02, 45139.79it/s]\n",
      "100000it [00:02, 44335.65it/s]\n",
      "[2023-01-09 16:46:11,088] [INFO] Loaded vectors from template.floret\n"
     ]
    }
   ],
   "source": [
    "!python -m spacy init vectors en template.floret template --mode floret"
   ]
  },
  {
   "cell_type": "code",
   "execution_count": null,
   "id": "fc15b582-55cb-46c4-8e81-073c40d7fce6",
   "metadata": {},
   "outputs": [],
   "source": []
  }
 ],
 "metadata": {
  "kernelspec": {
   "display_name": "Python 3 (ipykernel)",
   "language": "python",
   "name": "python3"
  },
  "language_info": {
   "codemirror_mode": {
    "name": "ipython",
    "version": 3
   },
   "file_extension": ".py",
   "mimetype": "text/x-python",
   "name": "python",
   "nbconvert_exporter": "python",
   "pygments_lexer": "ipython3",
   "version": "3.8.5"
  }
 },
 "nbformat": 4,
 "nbformat_minor": 5
}
